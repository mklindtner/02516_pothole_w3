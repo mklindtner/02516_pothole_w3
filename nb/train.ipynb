{
 "cells": [
  {
   "cell_type": "code",
   "execution_count": 45,
   "id": "0131b524-6518-445a-bce2-5a2a0831da81",
   "metadata": {},
   "outputs": [
    {
     "name": "stdout",
     "output_type": "stream",
     "text": [
      "The autoreload extension is already loaded. To reload it, use:\n",
      "  %reload_ext autoreload\n"
     ]
    }
   ],
   "source": [
    "%load_ext autoreload\n",
    "%autoreload 2\n",
    "\n",
    "from pothole.datasets import PotholeDataset"
   ]
  },
  {
   "cell_type": "code",
   "execution_count": 53,
   "id": "b3bda677-4ef8-4326-93d4-a673142cd304",
   "metadata": {},
   "outputs": [],
   "source": [
    "trainset = PotholeDataset('train')\n",
    "valset = PotholeDataset('validation')\n",
    "testset = PotholeDataset('test')"
   ]
  }
 ],
 "metadata": {
  "kernelspec": {
   "display_name": "Python 3 (ipykernel)",
   "language": "python",
   "name": "python3"
  },
  "language_info": {
   "codemirror_mode": {
    "name": "ipython",
    "version": 3
   },
   "file_extension": ".py",
   "mimetype": "text/x-python",
   "name": "python",
   "nbconvert_exporter": "python",
   "pygments_lexer": "ipython3",
   "version": "3.11.7"
  }
 },
 "nbformat": 4,
 "nbformat_minor": 5
}
